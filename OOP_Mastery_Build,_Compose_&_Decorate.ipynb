{
  "nbformat": 4,
  "nbformat_minor": 0,
  "metadata": {
    "colab": {
      "provenance": [],
      "authorship_tag": "ABX9TyMkBTbfOjuLYYSiRsf01J9g",
      "include_colab_link": true
    },
    "kernelspec": {
      "name": "python3",
      "display_name": "Python 3"
    },
    "language_info": {
      "name": "python"
    }
  },
  "cells": [
    {
      "cell_type": "markdown",
      "metadata": {
        "id": "view-in-github",
        "colab_type": "text"
      },
      "source": [
        "<a href=\"https://colab.research.google.com/github/RUBAS-25/OOP-Mastery-Build-Compose-Decorate-using-Python/blob/main/OOP_Mastery_Build%2C_Compose_%26_Decorate.ipynb\" target=\"_parent\"><img src=\"https://colab.research.google.com/assets/colab-badge.svg\" alt=\"Open In Colab\"/></a>"
      ]
    },
    {
      "cell_type": "markdown",
      "source": [
        "## **Build_Compose_and_Decorate_A_Complete_Traditional_OOP_Practice_Series**"
      ],
      "metadata": {
        "id": "ZyRFir4Z9bur"
      }
    },
    {
      "cell_type": "markdown",
      "source": [
        "**1. Using self**"
      ],
      "metadata": {
        "id": "A41ktVcQ9gmz"
      }
    },
    {
      "cell_type": "code",
      "source": [
        "class Student:\n",
        "    def __init__(self, name, marks):\n",
        "        self.name = name\n",
        "        self.marks = marks\n",
        "\n",
        "    def display(self):\n",
        "        print(f\"1)NAME: {self.name}, 2)MARKS: {self.marks}\")\n",
        "\n",
        "s = Student(\"Rubas\", 80)\n",
        "s.display()\n"
      ],
      "metadata": {
        "colab": {
          "base_uri": "https://localhost:8080/"
        },
        "id": "en6byQXK9mkw",
        "outputId": "51ec1148-cfcd-414b-a1b3-dfa13ae74413"
      },
      "execution_count": 2,
      "outputs": [
        {
          "output_type": "stream",
          "name": "stdout",
          "text": [
            "1)NAME: Rubas, 2)MARKS: 80\n"
          ]
        }
      ]
    },
    {
      "cell_type": "markdown",
      "source": [
        "**2. Using cls**"
      ],
      "metadata": {
        "id": "Or_01g3r9nCA"
      }
    },
    {
      "cell_type": "code",
      "source": [
        "class Counter:\n",
        "    count = 0\n",
        "\n",
        "    def __init__(self):\n",
        "        Counter.count += 1\n",
        "\n",
        "    @classmethod\n",
        "    def show_count(cls):\n",
        "        print(f\"NUMBER OF OBJECTS CREATED: {cls.count}\")\n",
        "\n",
        "c1 = Counter()\n",
        "c2 = Counter()\n",
        "c3 = Counter()\n",
        "Counter.show_count()\n"
      ],
      "metadata": {
        "colab": {
          "base_uri": "https://localhost:8080/"
        },
        "id": "nneDZIUn9qkL",
        "outputId": "860081c8-b552-434a-869a-49b1d1358beb"
      },
      "execution_count": 4,
      "outputs": [
        {
          "output_type": "stream",
          "name": "stdout",
          "text": [
            "NUMBER OF OBJECTS CREATED: 3\n"
          ]
        }
      ]
    },
    {
      "cell_type": "markdown",
      "source": [
        "**3. Public Variables and Methods**"
      ],
      "metadata": {
        "id": "R-OWY-A-9lVl"
      }
    },
    {
      "cell_type": "code",
      "source": [
        "class Car:\n",
        "    def __init__(self, brand):\n",
        "        self.brand = brand\n",
        "\n",
        "    def start(self):\n",
        "        print(f\"{self.brand} is my favourite car brand.\")\n",
        "\n",
        "car = Car(\"KIA\")\n",
        "car.start()\n"
      ],
      "metadata": {
        "colab": {
          "base_uri": "https://localhost:8080/"
        },
        "id": "-vhYs2eg9wNu",
        "outputId": "cd86b241-36fd-4114-9803-e8f01a640998"
      },
      "execution_count": 6,
      "outputs": [
        {
          "output_type": "stream",
          "name": "stdout",
          "text": [
            "KIA is my favourite car brand.\n"
          ]
        }
      ]
    },
    {
      "cell_type": "markdown",
      "source": [
        "**4. Class Variables and Class Methods**"
      ],
      "metadata": {
        "id": "DH61rfSF9wpw"
      }
    },
    {
      "cell_type": "code",
      "source": [
        "class Bank:\n",
        "    bank_name = \"MEEZAN BANK\"\n",
        "\n",
        "    @classmethod\n",
        "    def change_bank_name(cls, name):\n",
        "        cls.bank_name = name\n",
        "\n",
        "b1 = Bank()\n",
        "b2 = Bank()\n",
        "print(b1.bank_name)\n",
        "Bank.change_bank_name(\"ALFALAH BANK\")\n",
        "print(b2.bank_name)\n"
      ],
      "metadata": {
        "colab": {
          "base_uri": "https://localhost:8080/"
        },
        "id": "MIl2Q3Tf90fk",
        "outputId": "d4c919f7-a82d-4f44-f144-1e8af94bff65"
      },
      "execution_count": 7,
      "outputs": [
        {
          "output_type": "stream",
          "name": "stdout",
          "text": [
            "MEEZAN BANK\n",
            "ALFALAH BANK\n"
          ]
        }
      ]
    },
    {
      "cell_type": "markdown",
      "source": [
        "**5. Static Variables and Static Methods**"
      ],
      "metadata": {
        "id": "6SOOe31z904z"
      }
    },
    {
      "cell_type": "code",
      "source": [
        "class MathUtils:\n",
        "    @staticmethod\n",
        "    def add(a, b):\n",
        "        return a + b\n",
        "\n",
        "print(MathUtils.add(3, 5))\n"
      ],
      "metadata": {
        "colab": {
          "base_uri": "https://localhost:8080/"
        },
        "id": "rFkJMufi95hE",
        "outputId": "3b79be93-5fdd-4fbb-ece2-e9d9585f1467"
      },
      "execution_count": 8,
      "outputs": [
        {
          "output_type": "stream",
          "name": "stdout",
          "text": [
            "8\n"
          ]
        }
      ]
    },
    {
      "cell_type": "markdown",
      "source": [
        "**6. Constructors and Destructors**"
      ],
      "metadata": {
        "id": "Toxy49hj951c"
      }
    },
    {
      "cell_type": "code",
      "source": [
        "class Logger:\n",
        "    def __init__(self):\n",
        "        print(\"Logger created.\")\n",
        "\n",
        "    def __del__(self):\n",
        "        print(\"Logger destroyed.\")\n",
        "\n",
        "# Example usage\n",
        "logger = Logger()\n",
        "del logger  # Manual call to destructor\n"
      ],
      "metadata": {
        "colab": {
          "base_uri": "https://localhost:8080/"
        },
        "id": "FOhf_7QB99KF",
        "outputId": "a3301fc0-a21d-42c7-8d69-13d0bb1c0ed7"
      },
      "execution_count": 9,
      "outputs": [
        {
          "output_type": "stream",
          "name": "stdout",
          "text": [
            "Logger created.\n",
            "Logger destroyed.\n"
          ]
        }
      ]
    },
    {
      "cell_type": "markdown",
      "source": [
        "**7. Access Modifiers: Public, Private, and Protected**"
      ],
      "metadata": {
        "id": "d1csIyZF99eC"
      }
    },
    {
      "cell_type": "code",
      "source": [
        "class Employee:\n",
        "    def __init__(self, name, salary, ssn):\n",
        "        self.name = name         # Public variable\n",
        "        self._salary = salary    # Protected variable (convention)\n",
        "        self.__ssn = ssn         # Private variable (name mangled)\n",
        "\n",
        "# Create an object\n",
        "emp = Employee(\"FATIMA\", 1111, \"111-111-111\")\n",
        "\n",
        "# Accessing the public variable (works)\n",
        "print(\"Public - Name:\", emp.name)\n",
        "\n",
        "# Accessing the protected variable (works, but discouraged by convention)\n",
        "print(\"Protected - Salary:\", emp._salary)\n",
        "\n",
        "# Accessing the private variable (will raise AttributeError)\n",
        "try:\n",
        "    print(\"Private - SSN:\", emp.__ssn)\n",
        "except AttributeError as e:\n",
        "    print(\"Private - SSN: Access failed!\", e)\n",
        "\n",
        "# Accessing private variable using name mangling (works, but not recommended)\n",
        "print(\"Private - SSN via name mangling:\", emp._Employee__ssn)\n"
      ],
      "metadata": {
        "colab": {
          "base_uri": "https://localhost:8080/"
        },
        "id": "KYoSEWvA-DRA",
        "outputId": "b8df4b2c-b819-4c58-96e0-b4efc786855d"
      },
      "execution_count": 13,
      "outputs": [
        {
          "output_type": "stream",
          "name": "stdout",
          "text": [
            "Public - Name: FATIMA\n",
            "Protected - Salary: 1111\n",
            "Private - SSN: Access failed! 'Employee' object has no attribute '__ssn'\n",
            "Private - SSN via name mangling: 111-111-111\n"
          ]
        }
      ]
    },
    {
      "cell_type": "markdown",
      "source": [
        "**8.The super() Function**"
      ],
      "metadata": {
        "id": "5IWkMaYP-DlO"
      }
    },
    {
      "cell_type": "code",
      "source": [
        "class Person:\n",
        "    def __init__(self, name):\n",
        "        self.name = name\n",
        "\n",
        "class Teacher(Person):\n",
        "    def __init__(self, name, subject):\n",
        "        super().__init__(name)\n",
        "        self.subject = subject\n",
        "\n",
        "# Example usage\n",
        "t = Teacher(\"HEER\", \"PSYCOLOGY\")\n",
        "print(t.name, t.subject)\n"
      ],
      "metadata": {
        "colab": {
          "base_uri": "https://localhost:8080/"
        },
        "id": "8InwJaTn-Q9i",
        "outputId": "3b792bc1-e953-453b-a995-bfda10430c0e"
      },
      "execution_count": 15,
      "outputs": [
        {
          "output_type": "stream",
          "name": "stdout",
          "text": [
            "HEER PSYCOLOGY\n"
          ]
        }
      ]
    },
    {
      "cell_type": "markdown",
      "source": [
        "**9. Abstract Classes and Methods**"
      ],
      "metadata": {
        "id": "Hq9E4OGV-RUA"
      }
    },
    {
      "cell_type": "code",
      "source": [
        "from abc import ABC, abstractmethod\n",
        "\n",
        "class Shape(ABC):\n",
        "    @abstractmethod\n",
        "    def area(self):\n",
        "        pass\n",
        "\n",
        "class Rectangle(Shape):\n",
        "    def __init__(self, width, height):\n",
        "        self.width = width\n",
        "        self.height = height\n",
        "\n",
        "    def area(self):\n",
        "        return self.width * self.height\n",
        "\n",
        "rect = Rectangle(28, 22)\n",
        "print(rect.area())\n"
      ],
      "metadata": {
        "colab": {
          "base_uri": "https://localhost:8080/"
        },
        "id": "b14JiYsz-U94",
        "outputId": "ada853fc-028b-43ff-b952-f19a22bac47c"
      },
      "execution_count": 17,
      "outputs": [
        {
          "output_type": "stream",
          "name": "stdout",
          "text": [
            "616\n"
          ]
        }
      ]
    },
    {
      "cell_type": "markdown",
      "source": [
        "**10. Instance Methods**"
      ],
      "metadata": {
        "id": "BAcNSULO-VZy"
      }
    },
    {
      "cell_type": "code",
      "source": [
        "class Dog:\n",
        "    def __init__(self, name, breed):\n",
        "        self.name = name\n",
        "        self.breed = breed\n",
        "\n",
        "    def bark(self):\n",
        "        print(f\"{self.name} says woof!\")\n",
        "\n",
        "# Example usage\n",
        "d = Dog(\"ZEV\", \"GERMAN\")\n",
        "d.bark()\n"
      ],
      "metadata": {
        "colab": {
          "base_uri": "https://localhost:8080/"
        },
        "id": "3QomUSgc-ZVa",
        "outputId": "73abc61f-4a9e-4d9f-9699-566cbb903b73"
      },
      "execution_count": 18,
      "outputs": [
        {
          "output_type": "stream",
          "name": "stdout",
          "text": [
            "ZEV says woof!\n"
          ]
        }
      ]
    },
    {
      "cell_type": "markdown",
      "source": [
        "**11. Class Methods**"
      ],
      "metadata": {
        "id": "xQClT4oI-Zp0"
      }
    },
    {
      "cell_type": "code",
      "source": [
        "class Book:\n",
        "    total_books = 0\n",
        "\n",
        "    @classmethod\n",
        "    def increment_book_count(cls):\n",
        "        cls.total_books += 1\n",
        "\n",
        "Book.increment_book_count()\n",
        "Book.increment_book_count()\n",
        "Book.increment_book_count()\n",
        "Book.increment_book_count()\n",
        "print(Book.total_books)\n"
      ],
      "metadata": {
        "colab": {
          "base_uri": "https://localhost:8080/"
        },
        "id": "V10RF5RX-dJU",
        "outputId": "b4c75b87-646d-4d8d-84bd-797161aa8856"
      },
      "execution_count": 19,
      "outputs": [
        {
          "output_type": "stream",
          "name": "stdout",
          "text": [
            "4\n"
          ]
        }
      ]
    },
    {
      "cell_type": "markdown",
      "source": [
        "**12. Static Methods**"
      ],
      "metadata": {
        "id": "UGHhvsO0-dhM"
      }
    },
    {
      "cell_type": "code",
      "source": [
        "class TemperatureConverter:\n",
        "    @staticmethod\n",
        "    def celsius_to_fahrenheit(c):\n",
        "        return (c * 9/5) + 32\n",
        "\n",
        "print(TemperatureConverter.celsius_to_fahrenheit(28))\n"
      ],
      "metadata": {
        "colab": {
          "base_uri": "https://localhost:8080/"
        },
        "id": "3wogJZZq-g7l",
        "outputId": "be39c4af-11f1-47f4-d48e-09aba70e13e4"
      },
      "execution_count": 20,
      "outputs": [
        {
          "output_type": "stream",
          "name": "stdout",
          "text": [
            "82.4\n"
          ]
        }
      ]
    },
    {
      "cell_type": "markdown",
      "source": [
        "**13. Composition**"
      ],
      "metadata": {
        "id": "4XH0o65x-h1j"
      }
    },
    {
      "cell_type": "code",
      "source": [
        "class Engine:\n",
        "    def start(self):\n",
        "        print(\"CAR ENGINE IS NOT STARTING\")\n",
        "\n",
        "class Car:\n",
        "    def __init__(self, engine):\n",
        "        self.engine = engine\n",
        "\n",
        "    def start_engine(self):\n",
        "        self.engine.start()\n",
        "\n",
        "# Example usage\n",
        "e = Engine()\n",
        "c = Car(e)\n",
        "c.start_engine()\n"
      ],
      "metadata": {
        "colab": {
          "base_uri": "https://localhost:8080/"
        },
        "id": "Nmfa49e1-lhb",
        "outputId": "3e739c1e-ceca-4f05-82ca-5d594f9bb372"
      },
      "execution_count": 23,
      "outputs": [
        {
          "output_type": "stream",
          "name": "stdout",
          "text": [
            "CAR ENGINE IS NOT STARTING\n"
          ]
        }
      ]
    },
    {
      "cell_type": "markdown",
      "source": [
        "**14. Aggregation**"
      ],
      "metadata": {
        "id": "nwEU5eVp-l8w"
      }
    },
    {
      "cell_type": "code",
      "source": [
        "class Employee:\n",
        "    def __init__(self, name, emp_id):\n",
        "        self.name = name\n",
        "        self.emp_id = emp_id\n",
        "\n",
        "    def display(self):\n",
        "        print(f\"Employee Name: {self.name}, ID: {self.emp_id}\")\n",
        "\n",
        "\n",
        "class Department:\n",
        "    def __init__(self, dept_name, employee):\n",
        "        self.dept_name = dept_name\n",
        "        self.employee = employee  # Aggregation (just a reference)\n",
        "\n",
        "    def show_department_info(self):\n",
        "        print(f\"Department: {self.dept_name}\")\n",
        "        self.employee.display()\n",
        "\n",
        "\n",
        "# Create an Employee object independently\n",
        "emp = Employee(\"MANAHIL\", 111)\n",
        "\n",
        "# Create a Department object that aggregates the Employee object\n",
        "dept = Department(\"JUNIOR CONTENT WRITER\", emp)\n",
        "\n",
        "# Display department and employee info\n",
        "dept.show_department_info()\n",
        "\n",
        "print(\"\\nAccessing employee outside department\")\n"
      ],
      "metadata": {
        "colab": {
          "base_uri": "https://localhost:8080/"
        },
        "id": "0h4_sCmd-qOb",
        "outputId": "68aa8174-f247-4f9a-daae-da6ab6aa0446"
      },
      "execution_count": 27,
      "outputs": [
        {
          "output_type": "stream",
          "name": "stdout",
          "text": [
            "Department: JUNIOR CONTENT WRITER\n",
            "Employee Name: MANAHIL, ID: 111\n",
            "\n",
            "Accessing employee outside department\n"
          ]
        }
      ]
    },
    {
      "cell_type": "markdown",
      "source": [
        "**15. Method Resolution Order (MRO) and Diamond Inheritance**"
      ],
      "metadata": {
        "id": "wVhAbbM9-qny"
      }
    },
    {
      "cell_type": "code",
      "source": [
        "class A:\n",
        "    def show(self):\n",
        "        print(\"A.show() called\")\n",
        "\n",
        "class B(A):\n",
        "    def show(self):\n",
        "        print(\"B.show() called\")\n",
        "\n",
        "class C(A):\n",
        "    def show(self):\n",
        "        print(\"C.show() called\")\n",
        "\n",
        "class D(B, C):\n",
        "    pass\n",
        "\n",
        "d = D()\n",
        "d.show()\n",
        "\n",
        "# Print the method resolution order\n",
        "print(\"\\nMRO for class D:\")\n",
        "print(D.__mro__)\n"
      ],
      "metadata": {
        "colab": {
          "base_uri": "https://localhost:8080/"
        },
        "id": "FieM6zTQ-ust",
        "outputId": "2bb1c562-4741-4275-fb45-74f51b681371"
      },
      "execution_count": 28,
      "outputs": [
        {
          "output_type": "stream",
          "name": "stdout",
          "text": [
            "B.show() called\n",
            "\n",
            "MRO for class D:\n",
            "(<class '__main__.D'>, <class '__main__.B'>, <class '__main__.C'>, <class '__main__.A'>, <class 'object'>)\n"
          ]
        }
      ]
    },
    {
      "cell_type": "markdown",
      "source": [
        "**16. Function Decorators**"
      ],
      "metadata": {
        "id": "abpjKoCl-vJs"
      }
    },
    {
      "cell_type": "code",
      "source": [
        "# Define the decorator\n",
        "def log_function_call(func):\n",
        "    def wrapper():\n",
        "        print(\"Function is being called\")\n",
        "        func()\n",
        "    return wrapper\n",
        "\n",
        "# Use the decorator\n",
        "@log_function_call\n",
        "def say_hello():\n",
        "    print(\"Hello!\")\n",
        "\n",
        "# Call the function\n",
        "say_hello()\n"
      ],
      "metadata": {
        "colab": {
          "base_uri": "https://localhost:8080/"
        },
        "id": "2bY-nFzh-y5R",
        "outputId": "d818de61-8189-4125-ba89-1078b36483f0"
      },
      "execution_count": 31,
      "outputs": [
        {
          "output_type": "stream",
          "name": "stdout",
          "text": [
            "Function is being called\n",
            "Hello!\n"
          ]
        }
      ]
    },
    {
      "cell_type": "markdown",
      "source": [
        "**17. Class Decorators**"
      ],
      "metadata": {
        "id": "DW-5x8Yz-zTF"
      }
    },
    {
      "cell_type": "code",
      "source": [
        "def add_greeting(cls):\n",
        "    def greet(self):\n",
        "        return \"Hello from Decorator!\"\n",
        "    cls.greet = greet\n",
        "    return cls\n",
        "\n",
        "@add_greeting\n",
        "class Person:\n",
        "    def __init__(self, name):\n",
        "        self.name = name\n",
        "\n",
        "# Create an object and call the greet() method\n",
        "p = Person(\"EVERYONE\")\n",
        "print(p.greet())\n"
      ],
      "metadata": {
        "colab": {
          "base_uri": "https://localhost:8080/"
        },
        "id": "kD6XPjBh-2RA",
        "outputId": "5be906c3-21c4-4526-ca0a-f0f83cc8a332"
      },
      "execution_count": 32,
      "outputs": [
        {
          "output_type": "stream",
          "name": "stdout",
          "text": [
            "Hello from Decorator!\n"
          ]
        }
      ]
    },
    {
      "cell_type": "markdown",
      "source": [
        "**18. Property Decorators: @property, @setter, and @deleter**"
      ],
      "metadata": {
        "id": "iKojyeQk-2kt"
      }
    },
    {
      "cell_type": "code",
      "source": [
        "class Product:\n",
        "    def __init__(self, price):\n",
        "        self._price = price  # Private attribute\n",
        "\n",
        "    @property\n",
        "    def price(self):\n",
        "        return self._price\n",
        "\n",
        "    @price.setter\n",
        "    def price(self, value):\n",
        "        if value >= 0:\n",
        "            self._price = value\n",
        "        else:\n",
        "            print(\"Price cannot be negative!\")\n",
        "\n",
        "    @price.deleter\n",
        "    def price(self):\n",
        "        print(\"Deleting price...\")\n",
        "        del self._price\n",
        "\n",
        "# Example usage\n",
        "p = Product(1010101010)\n",
        "print(p.price)\n",
        "\n",
        "p.price = 150\n",
        "print(p.price)\n",
        "\n",
        "del p.price\n"
      ],
      "metadata": {
        "colab": {
          "base_uri": "https://localhost:8080/"
        },
        "id": "aF3k4Ux4-6aB",
        "outputId": "671170dc-f9e9-4b70-9682-4538a9866c1f"
      },
      "execution_count": 33,
      "outputs": [
        {
          "output_type": "stream",
          "name": "stdout",
          "text": [
            "1010101010\n",
            "150\n",
            "Deleting price...\n"
          ]
        }
      ]
    },
    {
      "cell_type": "markdown",
      "source": [
        "**19. callable() and __call__()**"
      ],
      "metadata": {
        "id": "dC2g7AnI-6yR"
      }
    },
    {
      "cell_type": "code",
      "source": [
        "class Multiplier:\n",
        "    def __init__(self, factor):\n",
        "        self.factor = factor\n",
        "\n",
        "    def __call__(self, value):\n",
        "        return self.factor * value\n",
        "\n",
        "m = Multiplier(28)\n",
        "\n",
        "print(callable(m))  # Output: True\n",
        "\n",
        "# Call the object like a function\n",
        "print(m(22))\n"
      ],
      "metadata": {
        "colab": {
          "base_uri": "https://localhost:8080/"
        },
        "id": "NEkp_O4C--DV",
        "outputId": "48787dfc-3809-49cb-b9d9-8dd50d64e9c3"
      },
      "execution_count": 35,
      "outputs": [
        {
          "output_type": "stream",
          "name": "stdout",
          "text": [
            "True\n",
            "616\n"
          ]
        }
      ]
    },
    {
      "cell_type": "markdown",
      "source": [
        "**20. Creating a Custom Exception**"
      ],
      "metadata": {
        "id": "3dKfVwuY--YJ"
      }
    },
    {
      "cell_type": "code",
      "source": [
        "class InvalidAgeError(Exception):\n",
        "    pass\n",
        "\n",
        "def check_age(age):\n",
        "    if age < 18:\n",
        "        raise InvalidAgeError(\"Age must be 18 or older.\")\n",
        "    else:\n",
        "        print(\"Access granted.\")\n",
        "\n",
        "try:\n",
        "    age_input = int(input(\"Enter your age: \"))\n",
        "    check_age(age_input)\n",
        "except InvalidAgeError as e:\n",
        "    print(\"InvalidAgeError:\", e)\n",
        "except ValueError:\n",
        "    print(\"Please enter a valid number.\")\n"
      ],
      "metadata": {
        "colab": {
          "base_uri": "https://localhost:8080/"
        },
        "id": "w6l2jheU_B59",
        "outputId": "5e9a1e0a-b2ea-4bab-d922-13d68c6cfb46"
      },
      "execution_count": 36,
      "outputs": [
        {
          "output_type": "stream",
          "name": "stdout",
          "text": [
            "Enter your age: 22\n",
            "Access granted.\n"
          ]
        }
      ]
    },
    {
      "cell_type": "markdown",
      "source": [
        "**21. Make a Custom Class Iterable**"
      ],
      "metadata": {
        "id": "eTRLx24q_CLl"
      }
    },
    {
      "cell_type": "code",
      "source": [
        "class Countdown:\n",
        "    def __init__(self, start):\n",
        "        self.current = start\n",
        "\n",
        "    def __iter__(self):\n",
        "        return self\n",
        "\n",
        "    def __next__(self):\n",
        "        if self.current < 0:\n",
        "            raise StopIteration\n",
        "        else:\n",
        "            value = self.current\n",
        "            self.current -= 1\n",
        "            return value\n",
        "\n",
        "# Example usage\n",
        "for number in Countdown(22):\n",
        "    print(number)\n"
      ],
      "metadata": {
        "colab": {
          "base_uri": "https://localhost:8080/"
        },
        "id": "G2zEbjxa_eQu",
        "outputId": "29b4b785-8dde-4ade-8260-7114ca7346b6"
      },
      "execution_count": 38,
      "outputs": [
        {
          "output_type": "stream",
          "name": "stdout",
          "text": [
            "22\n",
            "21\n",
            "20\n",
            "19\n",
            "18\n",
            "17\n",
            "16\n",
            "15\n",
            "14\n",
            "13\n",
            "12\n",
            "11\n",
            "10\n",
            "9\n",
            "8\n",
            "7\n",
            "6\n",
            "5\n",
            "4\n",
            "3\n",
            "2\n",
            "1\n",
            "0\n"
          ]
        }
      ]
    }
  ]
}